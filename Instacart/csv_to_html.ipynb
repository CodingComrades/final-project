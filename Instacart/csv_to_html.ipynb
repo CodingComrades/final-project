{
 "cells": [
  {
   "cell_type": "code",
   "execution_count": 1,
   "metadata": {},
   "outputs": [],
   "source": [
    "# import dependencies \n",
    "import os\n",
    "import pandas as pd\n",
    "import numpy as np"
   ]
  },
  {
   "cell_type": "code",
   "execution_count": 2,
   "metadata": {},
   "outputs": [],
   "source": [
    "# generate path to csv\n",
    "csv_path = os.path.join('Resources', 'LimitedData.csv')\n",
    "instacart_csv = pd.read_csv(csv_path)"
   ]
  },
  {
   "cell_type": "code",
   "execution_count": 3,
   "metadata": {},
   "outputs": [
    {
     "name": "stdout",
     "output_type": "stream",
     "text": [
      "                                0\n",
      "0   Organic Italian Parsley Bunch\n",
      "1                Organic Cucumber\n",
      "2             Organic Gala Apples\n",
      "3           Organic Bartlett Pear\n",
      "4            Organic Strawberries\n",
      "..                            ...\n",
      "92              European Cucumber\n",
      "93              Fresh Ginger Root\n",
      "94                         Garlic\n",
      "95                 Broccoli Crown\n",
      "96               Hass Avocado Bag\n",
      "\n",
      "[97 rows x 1 columns]\n"
     ]
    }
   ],
   "source": [
    "produce_csv = instacart_csv.loc[instacart_csv[\"department\"] == \"produce\", :]\n",
    "produce_csv = produce_csv[[\"product_id\", \"product_name\", \"aisle\", \"Organic vs Non Organic\", \"Food Group\", \"Vegan Friendly\"]]\n",
    "unique_arr = produce_csv[\"product_name\"].unique()\n",
    "my_array = np.array(unique_arr)\n",
    "produce_csv = pd.DataFrame(my_array, index=None, columns=None)\n",
    "print(produce_csv)\n",
    "\n",
    "deli_csv = instacart_csv.loc[instacart_csv[\"department\"] == \"deli\", :]\n",
    "deli_csv = deli_csv[[\"product_id\", \"product_name\", \"aisle\", \"Organic vs Non Organic\", \"Food Group\", \"Vegan Friendly\"]]\n",
    "\n",
    "\n",
    "snacks_csv = instacart_csv.loc[instacart_csv[\"department\"] == \"snacks\", :]\n",
    "snacks_csv = snacks_csv[[\"product_id\", \"product_name\", \"aisle\", \"Organic vs Non Organic\", \"Food Group\", \"Vegan Friendly\"]]\n",
    "\n",
    "breakfast_csv = instacart_csv.loc[instacart_csv[\"department\"] == \"breakfast\", :]\n",
    "breakfast_csv = breakfast_csv[[\"product_id\", \"product_name\", \"aisle\", \"Organic vs Non Organic\", \"Food Group\", \"Vegan Friendly\"]]\n",
    "\n",
    "baby_csv = instacart_csv.loc[instacart_csv[\"department\"] == \"babies\", :]\n",
    "baby_csv = baby_csv[[\"product_id\", \"product_name\", \"aisle\", \"Organic vs Non Organic\", \"Food Group\", \"Vegan Friendly\"]]\n",
    "\n",
    "dairy_csv = instacart_csv.loc[instacart_csv[\"department\"] == \"dairy eggs\", :]\n",
    "dairy_csv = dairy_csv[[\"product_id\", \"product_name\", \"aisle\", \"Organic vs Non Organic\", \"Food Group\", \"Vegan Friendly\"]]\n",
    "\n",
    "beverages_csv = instacart_csv.loc[instacart_csv[\"department\"] == \"beverages\", :]\n",
    "beverages_csv = beverages_csv[[\"product_id\", \"product_name\", \"aisle\", \"Organic vs Non Organic\", \"Food Group\", \"Vegan Friendly\"]]\n",
    "\n",
    "bakery_csv = instacart_csv.loc[instacart_csv[\"department\"] == \"bakery\", :]\n",
    "bakery_csv = bakery_csv[[\"product_id\", \"product_name\", \"aisle\", \"Organic vs Non Organic\", \"Food Group\", \"Vegan Friendly\"]]\n",
    "\n",
    "frozen_csv = instacart_csv.loc[instacart_csv[\"department\"] == \"frozen\", :]\n",
    "frozen_csv = frozen_csv[[\"product_id\", \"product_name\", \"aisle\", \"Organic vs Non Organic\", \"Food Group\", \"Vegan Friendly\"]]\n"
   ]
  },
  {
   "cell_type": "code",
   "execution_count": 4,
   "metadata": {},
   "outputs": [
    {
     "data": {
      "text/plain": [
       "97"
      ]
     },
     "execution_count": 4,
     "metadata": {},
     "output_type": "execute_result"
    }
   ],
   "source": [
    "produce_csv = instacart_csv.loc[instacart_csv[\"department\"] == \"produce\", :]\n",
    "produce_csv = produce_csv[[\"product_id\", \"product_name\", \"aisle\", \"Organic vs Non Organic\", \"Food Group\", \"Vegan Friendly\"]]\n",
    "produce_csv = produce_csv.product_name.nunique()\n",
    "produce_csv"
   ]
  },
  {
   "cell_type": "code",
   "execution_count": 5,
   "metadata": {},
   "outputs": [
    {
     "ename": "AttributeError",
     "evalue": "'int' object has no attribute 'to_html'",
     "output_type": "error",
     "traceback": [
      "\u001b[0;31m---------------------------------------------------------------------------\u001b[0m",
      "\u001b[0;31mAttributeError\u001b[0m                            Traceback (most recent call last)",
      "\u001b[0;32m<ipython-input-5-5a3c8222304a>\u001b[0m in \u001b[0;36m<module>\u001b[0;34m\u001b[0m\n\u001b[1;32m      1\u001b[0m \u001b[0;31m# create html table and save to file\u001b[0m\u001b[0;34m\u001b[0m\u001b[0;34m\u001b[0m\u001b[0;34m\u001b[0m\u001b[0m\n\u001b[0;32m----> 2\u001b[0;31m \u001b[0mproduce_csv\u001b[0m\u001b[0;34m.\u001b[0m\u001b[0mto_html\u001b[0m\u001b[0;34m(\u001b[0m\u001b[0;34m'produce_table.html'\u001b[0m\u001b[0;34m,\u001b[0m \u001b[0mindex\u001b[0m\u001b[0;34m=\u001b[0m\u001b[0;32mFalse\u001b[0m\u001b[0;34m,\u001b[0m \u001b[0mclasses\u001b[0m\u001b[0;34m=\u001b[0m\u001b[0;34m[\u001b[0m\u001b[0;34m'table'\u001b[0m\u001b[0;34m,\u001b[0m \u001b[0;34m'table-striped'\u001b[0m\u001b[0;34m,\u001b[0m \u001b[0;34m'table-hover'\u001b[0m\u001b[0;34m]\u001b[0m\u001b[0;34m)\u001b[0m\u001b[0;34m\u001b[0m\u001b[0;34m\u001b[0m\u001b[0m\n\u001b[0m\u001b[1;32m      3\u001b[0m \u001b[0;34m\u001b[0m\u001b[0m\n\u001b[1;32m      4\u001b[0m \u001b[0;31m# create html table and save to file\u001b[0m\u001b[0;34m\u001b[0m\u001b[0;34m\u001b[0m\u001b[0;34m\u001b[0m\u001b[0m\n\u001b[1;32m      5\u001b[0m \u001b[0mdeli_csv\u001b[0m\u001b[0;34m.\u001b[0m\u001b[0mto_html\u001b[0m\u001b[0;34m(\u001b[0m\u001b[0;34m'deli_table.html'\u001b[0m\u001b[0;34m,\u001b[0m \u001b[0mindex\u001b[0m\u001b[0;34m=\u001b[0m\u001b[0;32mFalse\u001b[0m\u001b[0;34m,\u001b[0m \u001b[0mclasses\u001b[0m\u001b[0;34m=\u001b[0m\u001b[0;34m[\u001b[0m\u001b[0;34m'table'\u001b[0m\u001b[0;34m,\u001b[0m \u001b[0;34m'table-striped'\u001b[0m\u001b[0;34m,\u001b[0m \u001b[0;34m'table-hover'\u001b[0m\u001b[0;34m]\u001b[0m\u001b[0;34m)\u001b[0m\u001b[0;34m\u001b[0m\u001b[0;34m\u001b[0m\u001b[0m\n",
      "\u001b[0;31mAttributeError\u001b[0m: 'int' object has no attribute 'to_html'"
     ]
    }
   ],
   "source": [
    "# create html table and save to file \n",
    "produce_csv.to_html('produce_table.html', index=False, classes=['table', 'table-striped', 'table-hover'])\n",
    "\n",
    "# create html table and save to file \n",
    "deli_csv.to_html('deli_table.html', index=False, classes=['table', 'table-striped', 'table-hover'])\n",
    "\n",
    "# create html table and save to file \n",
    "snacks_csv.to_html('snacks_table.html', index=False, classes=['table', 'table-striped', 'table-hover'])\n",
    "\n",
    "# create html table and save to file \n",
    "breakfast_csv.to_html('breakfast_table.html', index=False, classes=['table', 'table-striped', 'table-hover'])\n",
    "\n",
    "# create html table and save to file \n",
    "baby_csv.to_html('baby_table.html', index=False, classes=['table', 'table-striped', 'table-hover'])\n",
    "\n",
    "# create html table and save to file \n",
    "dairy_csv.to_html('dairy_table.html', index=False, classes=['table', 'table-striped', 'table-hover'])\n",
    "\n",
    "# create html table and save to file \n",
    "beverages_csv.to_html('beverages_table.html', index=False, classes=['table', 'table-striped', 'table-hover'])\n",
    "\n",
    "# create html table and save to file \n",
    "bakery_csv.to_html('bakery_table.html', index=False, classes=['table', 'table-striped', 'table-hover'])\n",
    "\n",
    "# create html table and save to file \n",
    "frozen_csv.to_html('frozen_table.html', index=False, classes=['table', 'table-striped', 'table-hover'])"
   ]
  },
  {
   "cell_type": "code",
   "execution_count": null,
   "metadata": {},
   "outputs": [],
   "source": []
  },
  {
   "cell_type": "code",
   "execution_count": null,
   "metadata": {},
   "outputs": [],
   "source": []
  }
 ],
 "metadata": {
  "kernelspec": {
   "display_name": "Python 3",
   "language": "python",
   "name": "python3"
  },
  "language_info": {
   "codemirror_mode": {
    "name": "ipython",
    "version": 3
   },
   "file_extension": ".py",
   "mimetype": "text/x-python",
   "name": "python",
   "nbconvert_exporter": "python",
   "pygments_lexer": "ipython3",
   "version": "3.8.3"
  }
 },
 "nbformat": 4,
 "nbformat_minor": 2
}
