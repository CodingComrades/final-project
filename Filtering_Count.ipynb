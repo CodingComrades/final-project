{
 "cells": [
  {
   "cell_type": "code",
   "execution_count": 1,
   "metadata": {},
   "outputs": [],
   "source": [
    "import pandas as pd\n",
    "import json\n",
    "import numpy as np"
   ]
  },
  {
   "cell_type": "code",
   "execution_count": 2,
   "metadata": {},
   "outputs": [
    {
     "data": {
      "text/html": [
       "<div>\n",
       "<style scoped>\n",
       "    .dataframe tbody tr th:only-of-type {\n",
       "        vertical-align: middle;\n",
       "    }\n",
       "\n",
       "    .dataframe tbody tr th {\n",
       "        vertical-align: top;\n",
       "    }\n",
       "\n",
       "    .dataframe thead th {\n",
       "        text-align: right;\n",
       "    }\n",
       "</style>\n",
       "<table border=\"1\" class=\"dataframe\">\n",
       "  <thead>\n",
       "    <tr style=\"text-align: right;\">\n",
       "      <th></th>\n",
       "      <th>user_id</th>\n",
       "      <th>order_id</th>\n",
       "      <th>product_id</th>\n",
       "      <th>product_name</th>\n",
       "      <th>department</th>\n",
       "      <th>aisle</th>\n",
       "    </tr>\n",
       "  </thead>\n",
       "  <tbody>\n",
       "    <tr>\n",
       "      <th>0</th>\n",
       "      <td>1</td>\n",
       "      <td>550135</td>\n",
       "      <td>25133</td>\n",
       "      <td>Organic String Cheese</td>\n",
       "      <td>dairy eggs</td>\n",
       "      <td>packaged cheese</td>\n",
       "    </tr>\n",
       "    <tr>\n",
       "      <th>1</th>\n",
       "      <td>1</td>\n",
       "      <td>550135</td>\n",
       "      <td>12427</td>\n",
       "      <td>Original Beef Jerky</td>\n",
       "      <td>snacks</td>\n",
       "      <td>popcorn jerky</td>\n",
       "    </tr>\n",
       "    <tr>\n",
       "      <th>2</th>\n",
       "      <td>1</td>\n",
       "      <td>3367565</td>\n",
       "      <td>196</td>\n",
       "      <td>Soda</td>\n",
       "      <td>beverages</td>\n",
       "      <td>soft drinks</td>\n",
       "    </tr>\n",
       "    <tr>\n",
       "      <th>3</th>\n",
       "      <td>1</td>\n",
       "      <td>3367565</td>\n",
       "      <td>10258</td>\n",
       "      <td>Pistachios</td>\n",
       "      <td>snacks</td>\n",
       "      <td>nuts seeds dried fruit</td>\n",
       "    </tr>\n",
       "    <tr>\n",
       "      <th>4</th>\n",
       "      <td>1</td>\n",
       "      <td>3367565</td>\n",
       "      <td>12427</td>\n",
       "      <td>Original Beef Jerky</td>\n",
       "      <td>snacks</td>\n",
       "      <td>popcorn jerky</td>\n",
       "    </tr>\n",
       "  </tbody>\n",
       "</table>\n",
       "</div>"
      ],
      "text/plain": [
       "   user_id  order_id  product_id           product_name  department  \\\n",
       "0        1    550135       25133  Organic String Cheese  dairy eggs   \n",
       "1        1    550135       12427    Original Beef Jerky      snacks   \n",
       "2        1   3367565         196                   Soda   beverages   \n",
       "3        1   3367565       10258             Pistachios      snacks   \n",
       "4        1   3367565       12427    Original Beef Jerky      snacks   \n",
       "\n",
       "                    aisle  \n",
       "0         packaged cheese  \n",
       "1           popcorn jerky  \n",
       "2             soft drinks  \n",
       "3  nuts seeds dried fruit  \n",
       "4           popcorn jerky  "
      ]
     },
     "execution_count": 2,
     "metadata": {},
     "output_type": "execute_result"
    }
   ],
   "source": [
    "df = pd.read_csv('/Users/jlh/final-project/data/instacart/MLcategories.csv')\n",
    "df.head()"
   ]
  },
  {
   "cell_type": "code",
   "execution_count": 3,
   "metadata": {},
   "outputs": [
    {
     "data": {
      "text/plain": [
       "47799"
      ]
     },
     "execution_count": 3,
     "metadata": {},
     "output_type": "execute_result"
    }
   ],
   "source": [
    "df[\"product_name\"].nunique()"
   ]
  },
  {
   "cell_type": "code",
   "execution_count": 9,
   "metadata": {},
   "outputs": [
    {
     "data": {
      "text/plain": [
       "33731    2888\n",
       "4694     2735\n",
       "17738    2596\n",
       "60694    2579\n",
       "5360     2561\n",
       "         ... \n",
       "52168       3\n",
       "54453       3\n",
       "10644       3\n",
       "30669       3\n",
       "58941       3\n",
       "Name: user_id, Length: 63100, dtype: int64"
      ]
     },
     "execution_count": 9,
     "metadata": {},
     "output_type": "execute_result"
    }
   ],
   "source": [
    "df[\"user_id\"].value_counts()"
   ]
  },
  {
   "cell_type": "code",
   "execution_count": 11,
   "metadata": {},
   "outputs": [
    {
     "data": {
      "text/plain": [
       "33731    2888\n",
       "4694     2735\n",
       "17738    2596\n",
       "60694    2579\n",
       "5360     2561\n",
       "13701    2547\n",
       "57546    2445\n",
       "23832    2429\n",
       "52008    2386\n",
       "23371    2357\n",
       "3830     2343\n",
       "6710     2293\n",
       "5588     2223\n",
       "2335     2212\n",
       "4625     2117\n",
       "37592    2106\n",
       "30910    2104\n",
       "43758    2009\n",
       "9036     2003\n",
       "16274    2003\n",
       "Name: user_id, dtype: int64"
      ]
     },
     "execution_count": 11,
     "metadata": {},
     "output_type": "execute_result"
    }
   ],
   "source": [
    "df_limited = df[df.groupby(\"user_id\")['user_id'].transform('size') > 2000]\n",
    "df_limited[\"user_id\"].value_counts()"
   ]
  },
  {
   "cell_type": "code",
   "execution_count": 12,
   "metadata": {},
   "outputs": [
    {
     "data": {
      "text/plain": [
       "Banana                                                          145327\n",
       "Bag of Organic Bananas                                          116349\n",
       "Organic Strawberries                                             80107\n",
       "Organic Baby Spinach                                             74552\n",
       "Organic Hass Avocado                                             66862\n",
       "                                                                 ...  \n",
       "Pickled Asparagus                                                    1\n",
       "Simply Strawberry Banana & Apple Freeze Dried Fruits                 1\n",
       "Coffee-Mate Star Wars Spiced Latte Coffee Creamer                    1\n",
       "Blackberry Pomegranate Iced Green Tea To Go Packets                  1\n",
       "Optic White Platinum Toothpaste White & Radiant Crystal Mint         1\n",
       "Name: product_name, Length: 47799, dtype: int64"
      ]
     },
     "execution_count": 12,
     "metadata": {},
     "output_type": "execute_result"
    }
   ],
   "source": [
    "df[\"user_id\"].value_counts()\n",
    "df[\"department\"].value_counts(ascending=False)\n",
    "df[\"product_name\"].value_counts(ascending=False)"
   ]
  },
  {
   "cell_type": "code",
   "execution_count": 23,
   "metadata": {},
   "outputs": [
    {
     "data": {
      "text/plain": [
       "72"
      ]
     },
     "execution_count": 23,
     "metadata": {},
     "output_type": "execute_result"
    }
   ],
   "source": [
    "df_limited2 = df_limited[df_limited.groupby(\"product_name\")['product_name'].transform('size') > 75]\n",
    "df_limited2[\"product_name\"].value_counts()\n",
    "df_limited2[\"product_name\"].nunique()"
   ]
  },
  {
   "cell_type": "code",
   "execution_count": 25,
   "metadata": {},
   "outputs": [
    {
     "data": {
      "text/plain": [
       "fresh fruits                     2817\n",
       "yogurt                            935\n",
       "packaged vegetables fruits        927\n",
       "fresh vegetables                  495\n",
       "water seltzer sparkling water     356\n",
       "refrigerated                      273\n",
       "soy lactosefree                   267\n",
       "chips pretzels                    266\n",
       "milk                              262\n",
       "packaged produce                  257\n",
       "cereal                            242\n",
       "packaged cheese                   201\n",
       "fresh dips tapenades              177\n",
       "bread                             123\n",
       "frozen produce                    117\n",
       "Name: aisle, dtype: int64"
      ]
     },
     "execution_count": 25,
     "metadata": {},
     "output_type": "execute_result"
    }
   ],
   "source": [
    "df_limited3 = df_limited2[df_limited2.groupby(\"aisle\")['aisle'].transform('size') > 100]\n",
    "df_limited3[\"aisle\"].value_counts()"
   ]
  },
  {
   "cell_type": "code",
   "execution_count": 28,
   "metadata": {},
   "outputs": [
    {
     "data": {
      "text/plain": [
       "produce       4496\n",
       "dairy eggs    1665\n",
       "beverages      629\n",
       "snacks         266\n",
       "breakfast      242\n",
       "deli           177\n",
       "bakery         123\n",
       "frozen         117\n",
       "Name: department, dtype: int64"
      ]
     },
     "execution_count": 28,
     "metadata": {},
     "output_type": "execute_result"
    }
   ],
   "source": [
    "df_limited4 = df_limited3[df_limited3.groupby(\"department\")['department'].transform('size') > 100]\n",
    "df_limited4[\"department\"].value_counts()"
   ]
  },
  {
   "cell_type": "code",
   "execution_count": 29,
   "metadata": {},
   "outputs": [],
   "source": [
    "df_limited4.to_csv(\"LimitedData.csv\")"
   ]
  },
  {
   "cell_type": "code",
   "execution_count": 30,
   "metadata": {},
   "outputs": [
    {
     "data": {
      "text/html": [
       "<div>\n",
       "<style scoped>\n",
       "    .dataframe tbody tr th:only-of-type {\n",
       "        vertical-align: middle;\n",
       "    }\n",
       "\n",
       "    .dataframe tbody tr th {\n",
       "        vertical-align: top;\n",
       "    }\n",
       "\n",
       "    .dataframe thead th {\n",
       "        text-align: right;\n",
       "    }\n",
       "</style>\n",
       "<table border=\"1\" class=\"dataframe\">\n",
       "  <thead>\n",
       "    <tr style=\"text-align: right;\">\n",
       "      <th></th>\n",
       "      <th>user_id</th>\n",
       "      <th>order_id</th>\n",
       "      <th>product_id</th>\n",
       "      <th>product_name</th>\n",
       "      <th>department</th>\n",
       "      <th>aisle</th>\n",
       "    </tr>\n",
       "  </thead>\n",
       "  <tbody>\n",
       "    <tr>\n",
       "      <th>347526</th>\n",
       "      <td>2335</td>\n",
       "      <td>576673</td>\n",
       "      <td>27104</td>\n",
       "      <td>Fresh Cauliflower</td>\n",
       "      <td>produce</td>\n",
       "      <td>fresh vegetables</td>\n",
       "    </tr>\n",
       "    <tr>\n",
       "      <th>347533</th>\n",
       "      <td>2335</td>\n",
       "      <td>576673</td>\n",
       "      <td>19057</td>\n",
       "      <td>Organic Large Extra Fancy Fuji Apple</td>\n",
       "      <td>produce</td>\n",
       "      <td>fresh fruits</td>\n",
       "    </tr>\n",
       "    <tr>\n",
       "      <th>347546</th>\n",
       "      <td>2335</td>\n",
       "      <td>576673</td>\n",
       "      <td>24852</td>\n",
       "      <td>Banana</td>\n",
       "      <td>produce</td>\n",
       "      <td>fresh fruits</td>\n",
       "    </tr>\n",
       "    <tr>\n",
       "      <th>347567</th>\n",
       "      <td>2335</td>\n",
       "      <td>2270991</td>\n",
       "      <td>27104</td>\n",
       "      <td>Fresh Cauliflower</td>\n",
       "      <td>produce</td>\n",
       "      <td>fresh vegetables</td>\n",
       "    </tr>\n",
       "    <tr>\n",
       "      <th>347570</th>\n",
       "      <td>2335</td>\n",
       "      <td>2270991</td>\n",
       "      <td>16797</td>\n",
       "      <td>Strawberries</td>\n",
       "      <td>produce</td>\n",
       "      <td>fresh fruits</td>\n",
       "    </tr>\n",
       "    <tr>\n",
       "      <th>...</th>\n",
       "      <td>...</td>\n",
       "      <td>...</td>\n",
       "      <td>...</td>\n",
       "      <td>...</td>\n",
       "      <td>...</td>\n",
       "      <td>...</td>\n",
       "    </tr>\n",
       "    <tr>\n",
       "      <th>9564010</th>\n",
       "      <td>60694</td>\n",
       "      <td>1377201</td>\n",
       "      <td>30776</td>\n",
       "      <td>Organic Raw Kombucha Gingerade</td>\n",
       "      <td>beverages</td>\n",
       "      <td>refrigerated</td>\n",
       "    </tr>\n",
       "    <tr>\n",
       "      <th>9564026</th>\n",
       "      <td>60694</td>\n",
       "      <td>1721956</td>\n",
       "      <td>49247</td>\n",
       "      <td>Coconut Yoghurt</td>\n",
       "      <td>dairy eggs</td>\n",
       "      <td>yogurt</td>\n",
       "    </tr>\n",
       "    <tr>\n",
       "      <th>9564034</th>\n",
       "      <td>60694</td>\n",
       "      <td>1721956</td>\n",
       "      <td>34050</td>\n",
       "      <td>Orange Juice</td>\n",
       "      <td>beverages</td>\n",
       "      <td>refrigerated</td>\n",
       "    </tr>\n",
       "    <tr>\n",
       "      <th>9564045</th>\n",
       "      <td>60694</td>\n",
       "      <td>1721956</td>\n",
       "      <td>30776</td>\n",
       "      <td>Organic Raw Kombucha Gingerade</td>\n",
       "      <td>beverages</td>\n",
       "      <td>refrigerated</td>\n",
       "    </tr>\n",
       "    <tr>\n",
       "      <th>9564061</th>\n",
       "      <td>60694</td>\n",
       "      <td>2136777</td>\n",
       "      <td>49247</td>\n",
       "      <td>Coconut Yoghurt</td>\n",
       "      <td>dairy eggs</td>\n",
       "      <td>yogurt</td>\n",
       "    </tr>\n",
       "  </tbody>\n",
       "</table>\n",
       "<p>7715 rows × 6 columns</p>\n",
       "</div>"
      ],
      "text/plain": [
       "         user_id  order_id  product_id                          product_name  \\\n",
       "347526      2335    576673       27104                     Fresh Cauliflower   \n",
       "347533      2335    576673       19057  Organic Large Extra Fancy Fuji Apple   \n",
       "347546      2335    576673       24852                                Banana   \n",
       "347567      2335   2270991       27104                     Fresh Cauliflower   \n",
       "347570      2335   2270991       16797                          Strawberries   \n",
       "...          ...       ...         ...                                   ...   \n",
       "9564010    60694   1377201       30776        Organic Raw Kombucha Gingerade   \n",
       "9564026    60694   1721956       49247                       Coconut Yoghurt   \n",
       "9564034    60694   1721956       34050                          Orange Juice   \n",
       "9564045    60694   1721956       30776        Organic Raw Kombucha Gingerade   \n",
       "9564061    60694   2136777       49247                       Coconut Yoghurt   \n",
       "\n",
       "         department             aisle  \n",
       "347526      produce  fresh vegetables  \n",
       "347533      produce      fresh fruits  \n",
       "347546      produce      fresh fruits  \n",
       "347567      produce  fresh vegetables  \n",
       "347570      produce      fresh fruits  \n",
       "...             ...               ...  \n",
       "9564010   beverages      refrigerated  \n",
       "9564026  dairy eggs            yogurt  \n",
       "9564034   beverages      refrigerated  \n",
       "9564045   beverages      refrigerated  \n",
       "9564061  dairy eggs            yogurt  \n",
       "\n",
       "[7715 rows x 6 columns]"
      ]
     },
     "execution_count": 30,
     "metadata": {},
     "output_type": "execute_result"
    }
   ],
   "source": [
    "df_limited4"
   ]
  },
  {
   "cell_type": "code",
   "execution_count": null,
   "metadata": {},
   "outputs": [],
   "source": []
  }
 ],
 "metadata": {
  "kernelspec": {
   "display_name": "Python 3",
   "language": "python",
   "name": "python3"
  },
  "language_info": {
   "codemirror_mode": {
    "name": "ipython",
    "version": 3
   },
   "file_extension": ".py",
   "mimetype": "text/x-python",
   "name": "python",
   "nbconvert_exporter": "python",
   "pygments_lexer": "ipython3",
   "version": "3.8.3"
  }
 },
 "nbformat": 4,
 "nbformat_minor": 4
}
