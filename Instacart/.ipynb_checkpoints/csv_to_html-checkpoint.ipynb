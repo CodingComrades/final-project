{
 "cells": [
  {
   "cell_type": "code",
   "execution_count": 1,
   "metadata": {},
   "outputs": [],
   "source": [
    "# import dependencies \n",
    "import os\n",
    "import pandas as pd"
   ]
  },
  {
   "cell_type": "code",
   "execution_count": 2,
   "metadata": {},
   "outputs": [],
   "source": [
    "# generate path to csv\n",
    "csv_path = os.path.join('Resources', 'LimitedData.csv')\n",
    "instacart_csv = pd.read_csv(csv_path)"
   ]
  },
  {
   "cell_type": "code",
   "execution_count": 3,
   "metadata": {},
   "outputs": [],
   "source": [
    "produce_csv = instacart_csv.loc[instacart_csv[\"department\"] == \"produce\", :]\n",
    "deli_csv = instacart_csv.loc[instacart_csv[\"department\"] == \"deli\", :]\n",
    "snacks_csv = instacart_csv.loc[instacart_csv[\"department\"] == \"snacks\", :]\n",
    "breakfast_csv = instacart_csv.loc[instacart_csv[\"department\"] == \"breakfast\", :]\n",
    "baby_csv = instacart_csv.loc[instacart_csv[\"department\"] == \"babies\", :]\n",
    "dairy_csv = instacart_csv.loc[instacart_csv[\"department\"] == \"dairy eggs\", :]\n",
    "beverages_csv = instacart_csv.loc[instacart_csv[\"department\"] == \"beverages\", :]\n",
    "bakery_csv = instacart_csv.loc[instacart_csv[\"department\"] == \"bakery\", :]\n",
    "frozen_csv = instacart_csv.loc[instacart_csv[\"department\"] == \"frozen\", :]\n"
   ]
  },
  {
   "cell_type": "code",
   "execution_count": 4,
   "metadata": {},
   "outputs": [],
   "source": [
    "# create html table and save to file \n",
    "produce_csv.to_html('produce_table.html', index=False, classes=['table', 'table-striped', 'table-hover'])\n",
    "\n",
    "# create html table and save to file \n",
    "deli_csv.to_html('deli_table.html', index=False, classes=['table', 'table-striped', 'table-hover'])\n",
    "\n",
    "# create html table and save to file \n",
    "snacks_csv.to_html('snacks_table.html', index=False, classes=['table', 'table-striped', 'table-hover'])\n",
    "\n",
    "# create html table and save to file \n",
    "breakfast_csv.to_html('breakfast_table.html', index=False, classes=['table', 'table-striped', 'table-hover'])\n",
    "\n",
    "# create html table and save to file \n",
    "baby_csv.to_html('baby_table.html', index=False, classes=['table', 'table-striped', 'table-hover'])\n",
    "\n",
    "# create html table and save to file \n",
    "dairy_csv.to_html('dairy_table.html', index=False, classes=['table', 'table-striped', 'table-hover'])\n",
    "\n",
    "# create html table and save to file \n",
    "beverages_csv.to_html('beverages_table.html', index=False, classes=['table', 'table-striped', 'table-hover'])\n",
    "\n",
    "# create html table and save to file \n",
    "bakery_csv.to_html('bakery_table.html', index=False, classes=['table', 'table-striped', 'table-hover'])\n",
    "\n",
    "# create html table and save to file \n",
    "frozen_csv.to_html('frozen_table.html', index=False, classes=['table', 'table-striped', 'table-hover'])"
   ]
  },
  {
   "cell_type": "code",
   "execution_count": null,
   "metadata": {},
   "outputs": [],
   "source": []
  },
  {
   "cell_type": "code",
   "execution_count": null,
   "metadata": {},
   "outputs": [],
   "source": []
  }
 ],
 "metadata": {
  "kernelspec": {
   "display_name": "Python 3",
   "language": "python",
   "name": "python3"
  },
  "language_info": {
   "codemirror_mode": {
    "name": "ipython",
    "version": 3
   },
   "file_extension": ".py",
   "mimetype": "text/x-python",
   "name": "python",
   "nbconvert_exporter": "python",
   "pygments_lexer": "ipython3",
   "version": "3.8.3"
  }
 },
 "nbformat": 4,
 "nbformat_minor": 2
}
