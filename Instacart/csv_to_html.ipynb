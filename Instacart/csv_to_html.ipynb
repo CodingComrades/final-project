{
 "cells": [
  {
   "cell_type": "code",
   "execution_count": 1,
   "metadata": {},
   "outputs": [],
   "source": [
    "# import dependencies \n",
    "import os\n",
    "import pandas as pd"
   ]
  },
  {
   "cell_type": "code",
   "execution_count": 2,
   "metadata": {},
   "outputs": [],
   "source": [
    "# generate path to csv\n",
    "csv_path = os.path.join('Resources', 'LimitedData.csv')\n",
    "instacart_csv = pd.read_csv(csv_path)"
   ]
  },
  {
   "cell_type": "code",
   "execution_count": 3,
   "metadata": {},
   "outputs": [
    {
     "ename": "AttributeError",
     "evalue": "'DataFrame' object has no attribute 'department'",
     "output_type": "error",
     "traceback": [
      "\u001b[0;31m---------------------------------------------------------------------------\u001b[0m",
      "\u001b[0;31mAttributeError\u001b[0m                            Traceback (most recent call last)",
      "\u001b[0;32m<ipython-input-3-2c57c79538a5>\u001b[0m in \u001b[0;36m<module>\u001b[0;34m\u001b[0m\n\u001b[1;32m      5\u001b[0m \u001b[0mdeli_csv\u001b[0m \u001b[0;34m=\u001b[0m \u001b[0minstacart_csv\u001b[0m\u001b[0;34m.\u001b[0m\u001b[0mloc\u001b[0m\u001b[0;34m[\u001b[0m\u001b[0minstacart_csv\u001b[0m\u001b[0;34m[\u001b[0m\u001b[0;34m\"department\"\u001b[0m\u001b[0;34m]\u001b[0m \u001b[0;34m==\u001b[0m \u001b[0;34m\"deli\"\u001b[0m\u001b[0;34m,\u001b[0m \u001b[0;34m:\u001b[0m\u001b[0;34m]\u001b[0m\u001b[0;34m\u001b[0m\u001b[0;34m\u001b[0m\u001b[0m\n\u001b[1;32m      6\u001b[0m \u001b[0mdeli_csv\u001b[0m \u001b[0;34m=\u001b[0m \u001b[0mdeli_csv\u001b[0m\u001b[0;34m[\u001b[0m\u001b[0;34m[\u001b[0m\u001b[0;34m\"product_id\"\u001b[0m\u001b[0;34m,\u001b[0m \u001b[0;34m\"product_name\"\u001b[0m\u001b[0;34m,\u001b[0m \u001b[0;34m\"aisle\"\u001b[0m\u001b[0;34m,\u001b[0m \u001b[0;34m\"Organic vs Non Organic\"\u001b[0m\u001b[0;34m,\u001b[0m \u001b[0;34m\"Food Group\"\u001b[0m\u001b[0;34m,\u001b[0m \u001b[0;34m\"Vegan Friendly\"\u001b[0m\u001b[0;34m]\u001b[0m\u001b[0;34m]\u001b[0m\u001b[0;34m\u001b[0m\u001b[0;34m\u001b[0m\u001b[0m\n\u001b[0;32m----> 7\u001b[0;31m \u001b[0mdeli_csv\u001b[0m \u001b[0;34m=\u001b[0m \u001b[0mdeli_csv\u001b[0m\u001b[0;34m.\u001b[0m\u001b[0mdepartment\u001b[0m\u001b[0;34m.\u001b[0m\u001b[0mnunique\u001b[0m\u001b[0;34m(\u001b[0m\u001b[0;34m)\u001b[0m\u001b[0;34m\u001b[0m\u001b[0;34m\u001b[0m\u001b[0m\n\u001b[0m\u001b[1;32m      8\u001b[0m \u001b[0;34m\u001b[0m\u001b[0m\n\u001b[1;32m      9\u001b[0m \u001b[0msnacks_csv\u001b[0m \u001b[0;34m=\u001b[0m \u001b[0minstacart_csv\u001b[0m\u001b[0;34m.\u001b[0m\u001b[0mloc\u001b[0m\u001b[0;34m[\u001b[0m\u001b[0minstacart_csv\u001b[0m\u001b[0;34m[\u001b[0m\u001b[0;34m\"department\"\u001b[0m\u001b[0;34m]\u001b[0m \u001b[0;34m==\u001b[0m \u001b[0;34m\"snacks\"\u001b[0m\u001b[0;34m,\u001b[0m \u001b[0;34m:\u001b[0m\u001b[0;34m]\u001b[0m\u001b[0;34m\u001b[0m\u001b[0;34m\u001b[0m\u001b[0m\n",
      "\u001b[0;32m~/opt/anaconda3/lib/python3.8/site-packages/pandas/core/generic.py\u001b[0m in \u001b[0;36m__getattr__\u001b[0;34m(self, name)\u001b[0m\n\u001b[1;32m   5272\u001b[0m             \u001b[0;32mif\u001b[0m \u001b[0mself\u001b[0m\u001b[0;34m.\u001b[0m\u001b[0m_info_axis\u001b[0m\u001b[0;34m.\u001b[0m\u001b[0m_can_hold_identifiers_and_holds_name\u001b[0m\u001b[0;34m(\u001b[0m\u001b[0mname\u001b[0m\u001b[0;34m)\u001b[0m\u001b[0;34m:\u001b[0m\u001b[0;34m\u001b[0m\u001b[0;34m\u001b[0m\u001b[0m\n\u001b[1;32m   5273\u001b[0m                 \u001b[0;32mreturn\u001b[0m \u001b[0mself\u001b[0m\u001b[0;34m[\u001b[0m\u001b[0mname\u001b[0m\u001b[0;34m]\u001b[0m\u001b[0;34m\u001b[0m\u001b[0;34m\u001b[0m\u001b[0m\n\u001b[0;32m-> 5274\u001b[0;31m             \u001b[0;32mreturn\u001b[0m \u001b[0mobject\u001b[0m\u001b[0;34m.\u001b[0m\u001b[0m__getattribute__\u001b[0m\u001b[0;34m(\u001b[0m\u001b[0mself\u001b[0m\u001b[0;34m,\u001b[0m \u001b[0mname\u001b[0m\u001b[0;34m)\u001b[0m\u001b[0;34m\u001b[0m\u001b[0;34m\u001b[0m\u001b[0m\n\u001b[0m\u001b[1;32m   5275\u001b[0m \u001b[0;34m\u001b[0m\u001b[0m\n\u001b[1;32m   5276\u001b[0m     \u001b[0;32mdef\u001b[0m \u001b[0m__setattr__\u001b[0m\u001b[0;34m(\u001b[0m\u001b[0mself\u001b[0m\u001b[0;34m,\u001b[0m \u001b[0mname\u001b[0m\u001b[0;34m:\u001b[0m \u001b[0mstr\u001b[0m\u001b[0;34m,\u001b[0m \u001b[0mvalue\u001b[0m\u001b[0;34m)\u001b[0m \u001b[0;34m->\u001b[0m \u001b[0;32mNone\u001b[0m\u001b[0;34m:\u001b[0m\u001b[0;34m\u001b[0m\u001b[0;34m\u001b[0m\u001b[0m\n",
      "\u001b[0;31mAttributeError\u001b[0m: 'DataFrame' object has no attribute 'department'"
     ]
    }
   ],
   "source": [
    "produce_csv = instacart_csv.loc[instacart_csv[\"department\"] == \"produce\", :]\n",
    "produce_csv = produce_csv[[\"product_id\", \"product_name\", \"aisle\", \"Organic vs Non Organic\", \"Food Group\", \"Vegan Friendly\"]]\n",
    "produce_csv = produce_csv[\"product_name\"].value_counts()\n",
    "\n",
    "deli_csv = instacart_csv.loc[instacart_csv[\"department\"] == \"deli\", :]\n",
    "deli_csv = deli_csv[[\"product_id\", \"product_name\", \"aisle\", \"Organic vs Non Organic\", \"Food Group\", \"Vegan Friendly\"]]\n",
    "deli_csv = deli_csv[\"product_name\"].value_counts()\n",
    "\n",
    "snacks_csv = instacart_csv.loc[instacart_csv[\"department\"] == \"snacks\", :]\n",
    "snacks_csv = snacks_csv[[\"product_id\", \"product_name\", \"aisle\", \"Organic vs Non Organic\", \"Food Group\", \"Vegan Friendly\"]]\n",
    "snacks_csv = snacks_csv.department.nunique()\n",
    "\n",
    "breakfast_csv = instacart_csv.loc[instacart_csv[\"department\"] == \"breakfast\", :]\n",
    "breakfast_csv = breakfast_csv[[\"product_id\", \"product_name\", \"aisle\", \"Organic vs Non Organic\", \"Food Group\", \"Vegan Friendly\"]]\n",
    "breakfast_csv = breakfast_csv.department.nunique()\n",
    "\n",
    "baby_csv = instacart_csv.loc[instacart_csv[\"department\"] == \"babies\", :]\n",
    "baby_csv = baby_csv[[\"product_id\", \"product_name\", \"aisle\", \"Organic vs Non Organic\", \"Food Group\", \"Vegan Friendly\"]]\n",
    "baby_csv = baby_csv.department.nunique()\n",
    "\n",
    "dairy_csv = instacart_csv.loc[instacart_csv[\"department\"] == \"dairy eggs\", :]\n",
    "dairy_csv = dairy_csv[[\"product_id\", \"product_name\", \"aisle\", \"Organic vs Non Organic\", \"Food Group\", \"Vegan Friendly\"]]\n",
    "dairy_csv = dairy_csv.department.nunique()\n",
    "\n",
    "beverages_csv = instacart_csv.loc[instacart_csv[\"department\"] == \"beverages\", :]\n",
    "beverages_csv = beverages_csv[[\"product_id\", \"product_name\", \"aisle\", \"Organic vs Non Organic\", \"Food Group\", \"Vegan Friendly\"]]\n",
    "beverages_csv = beverages_csv.department.nunique()\n",
    "\n",
    "bakery_csv = instacart_csv.loc[instacart_csv[\"department\"] == \"bakery\", :]\n",
    "bakery_csv = bakery_csv[[\"product_id\", \"product_name\", \"aisle\", \"Organic vs Non Organic\", \"Food Group\", \"Vegan Friendly\"]]\n",
    "bakery_csv = bakery_csv.department.nunique()\n",
    "\n",
    "frozen_csv = instacart_csv.loc[instacart_csv[\"department\"] == \"frozen\", :]\n",
    "frozen_csv = frozen_csv[[\"product_id\", \"product_name\", \"aisle\", \"Organic vs Non Organic\", \"Food Group\", \"Vegan Friendly\"]]\n",
    "frozen_csv = frozen_csv.department.nunique()\n",
    "\n",
    "produce_csv"
   ]
  },
  {
   "cell_type": "code",
   "execution_count": 7,
   "metadata": {},
   "outputs": [
    {
     "data": {
      "text/plain": [
       "97"
      ]
     },
     "execution_count": 7,
     "metadata": {},
     "output_type": "execute_result"
    }
   ],
   "source": [
    "produce_csv = instacart_csv.loc[instacart_csv[\"department\"] == \"produce\", :]\n",
    "produce_csv = produce_csv[[\"product_id\", \"product_name\", \"aisle\", \"Organic vs Non Organic\", \"Food Group\", \"Vegan Friendly\"]]\n",
    "produce_csv = produce_csv.product_name.nunique()\n",
    "produce_csv"
   ]
  },
  {
   "cell_type": "code",
   "execution_count": null,
   "metadata": {},
   "outputs": [],
   "source": [
    "# create html table and save to file \n",
    "produce_csv.to_html('produce_table.html', index=False, classes=['table', 'table-striped', 'table-hover'])\n",
    "\n",
    "# create html table and save to file \n",
    "deli_csv.to_html('deli_table.html', index=False, classes=['table', 'table-striped', 'table-hover'])\n",
    "\n",
    "# create html table and save to file \n",
    "snacks_csv.to_html('snacks_table.html', index=False, classes=['table', 'table-striped', 'table-hover'])\n",
    "\n",
    "# create html table and save to file \n",
    "breakfast_csv.to_html('breakfast_table.html', index=False, classes=['table', 'table-striped', 'table-hover'])\n",
    "\n",
    "# create html table and save to file \n",
    "baby_csv.to_html('baby_table.html', index=False, classes=['table', 'table-striped', 'table-hover'])\n",
    "\n",
    "# create html table and save to file \n",
    "dairy_csv.to_html('dairy_table.html', index=False, classes=['table', 'table-striped', 'table-hover'])\n",
    "\n",
    "# create html table and save to file \n",
    "beverages_csv.to_html('beverages_table.html', index=False, classes=['table', 'table-striped', 'table-hover'])\n",
    "\n",
    "# create html table and save to file \n",
    "bakery_csv.to_html('bakery_table.html', index=False, classes=['table', 'table-striped', 'table-hover'])\n",
    "\n",
    "# create html table and save to file \n",
    "frozen_csv.to_html('frozen_table.html', index=False, classes=['table', 'table-striped', 'table-hover'])"
   ]
  },
  {
   "cell_type": "code",
   "execution_count": null,
   "metadata": {},
   "outputs": [],
   "source": []
  },
  {
   "cell_type": "code",
   "execution_count": null,
   "metadata": {},
   "outputs": [],
   "source": []
  }
 ],
 "metadata": {
  "kernelspec": {
   "display_name": "Python 3",
   "language": "python",
   "name": "python3"
  },
  "language_info": {
   "codemirror_mode": {
    "name": "ipython",
    "version": 3
   },
   "file_extension": ".py",
   "mimetype": "text/x-python",
   "name": "python",
   "nbconvert_exporter": "python",
   "pygments_lexer": "ipython3",
   "version": "3.8.3"
  }
 },
 "nbformat": 4,
 "nbformat_minor": 2
}
