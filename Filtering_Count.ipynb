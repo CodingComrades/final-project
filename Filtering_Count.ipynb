{
 "cells": [
  {
   "cell_type": "code",
   "execution_count": 2,
   "metadata": {},
   "outputs": [],
   "source": [
    "import pandas as pd\n",
    "import json\n",
    "import numpy as np"
   ]
  },
  {
   "cell_type": "code",
   "execution_count": 3,
   "metadata": {},
   "outputs": [],
   "source": [
    "df = pd.read_csv('/Users/jlh/final-project2/data/instacart/MLcategories.csv')"
   ]
  },
  {
   "cell_type": "code",
   "execution_count": 3,
   "metadata": {},
   "outputs": [
    {
     "data": {
      "text/plain": [
       "47799"
      ]
     },
     "execution_count": 3,
     "metadata": {},
     "output_type": "execute_result"
    }
   ],
   "source": [
    "df[\"product_name\"].nunique()"
   ]
  },
  {
   "cell_type": "code",
   "execution_count": 9,
   "metadata": {},
   "outputs": [
    {
     "data": {
      "text/plain": [
       "33731    2888\n",
       "4694     2735\n",
       "17738    2596\n",
       "60694    2579\n",
       "5360     2561\n",
       "         ... \n",
       "52168       3\n",
       "54453       3\n",
       "10644       3\n",
       "30669       3\n",
       "58941       3\n",
       "Name: user_id, Length: 63100, dtype: int64"
      ]
     },
     "execution_count": 9,
     "metadata": {},
     "output_type": "execute_result"
    }
   ],
   "source": [
    "df[\"user_id\"].value_counts()"
   ]
  },
  {
   "cell_type": "code",
   "execution_count": 4,
   "metadata": {},
   "outputs": [
    {
     "data": {
      "text/plain": [
       "33731    2888\n",
       "4694     2735\n",
       "17738    2596\n",
       "60694    2579\n",
       "5360     2561\n",
       "13701    2547\n",
       "57546    2445\n",
       "23832    2429\n",
       "52008    2386\n",
       "23371    2357\n",
       "3830     2343\n",
       "6710     2293\n",
       "5588     2223\n",
       "2335     2212\n",
       "4625     2117\n",
       "37592    2106\n",
       "30910    2104\n",
       "43758    2009\n",
       "16274    2003\n",
       "9036     2003\n",
       "31789    1969\n",
       "38683    1965\n",
       "44330    1956\n",
       "48632    1950\n",
       "28087    1946\n",
       "32099    1945\n",
       "54485    1940\n",
       "1563     1940\n",
       "59819    1936\n",
       "39901    1916\n",
       "Name: user_id, dtype: int64"
      ]
     },
     "execution_count": 4,
     "metadata": {},
     "output_type": "execute_result"
    }
   ],
   "source": [
    "df_limited = df[df.groupby(\"user_id\")['user_id'].transform('size') > 1900]\n",
    "df_limited[\"user_id\"].value_counts()"
   ]
  },
  {
   "cell_type": "code",
   "execution_count": 5,
   "metadata": {},
   "outputs": [
    {
     "data": {
      "text/plain": [
       "Banana                                 145327\n",
       "Bag of Organic Bananas                 116349\n",
       "Organic Strawberries                    80107\n",
       "Organic Baby Spinach                    74552\n",
       "Organic Hass Avocado                    66862\n",
       "                                        ...  \n",
       "Oil Basic Cleansing Facial Cleanser         1\n",
       "100% Mountain Spring Water                  1\n",
       "Lentil Trio, Organic                        1\n",
       "Imperial Champagne                          1\n",
       "Mayonnaise Pouch                            1\n",
       "Name: product_name, Length: 47799, dtype: int64"
      ]
     },
     "execution_count": 5,
     "metadata": {},
     "output_type": "execute_result"
    }
   ],
   "source": [
    "df[\"user_id\"].value_counts()\n",
    "df[\"department\"].value_counts(ascending=False)\n",
    "df[\"product_name\"].value_counts(ascending=False)"
   ]
  },
  {
   "cell_type": "code",
   "execution_count": 8,
   "metadata": {},
   "outputs": [
    {
     "data": {
      "text/plain": [
       "204"
      ]
     },
     "execution_count": 8,
     "metadata": {},
     "output_type": "execute_result"
    }
   ],
   "source": [
    "df_limited2 = df_limited[df_limited.groupby(\"product_name\")['product_name'].transform('size') > 60]\n",
    "df_limited2[\"product_name\"].value_counts()\n",
    "df_limited2[\"product_name\"].nunique()"
   ]
  },
  {
   "cell_type": "code",
   "execution_count": 7,
   "metadata": {},
   "outputs": [
    {
     "data": {
      "text/plain": [
       "fresh fruits                     8269\n",
       "fresh vegetables                 2773\n",
       "packaged vegetables fruits       2494\n",
       "yogurt                           1046\n",
       "water seltzer sparkling water     995\n",
       "packaged cheese                   861\n",
       "soy lactosefree                   759\n",
       "milk                              698\n",
       "refrigerated                      650\n",
       "cream                             511\n",
       "breakfast bakery                  498\n",
       "bread                             399\n",
       "other creams cheeses              283\n",
       "fresh dips tapenades              263\n",
       "frozen produce                    185\n",
       "lunch meat                        179\n",
       "canned fruit applesauce           173\n",
       "baby food formula                 161\n",
       "oils vinegars                     159\n",
       "juice nectars                     144\n",
       "canned meals beans                144\n",
       "fresh herbs                       128\n",
       "tofu meat alternatives            124\n",
       "eggs                              121\n",
       "Name: aisle, dtype: int64"
      ]
     },
     "execution_count": 7,
     "metadata": {},
     "output_type": "execute_result"
    }
   ],
   "source": [
    "df_limited3 = df_limited2[df_limited2.groupby(\"aisle\")['aisle'].transform('size') > 120]\n",
    "df_limited3[\"aisle\"].value_counts()"
   ]
  },
  {
   "cell_type": "code",
   "execution_count": 8,
   "metadata": {},
   "outputs": [
    {
     "data": {
      "text/plain": [
       "produce         13664\n",
       "dairy eggs       4279\n",
       "beverages        1789\n",
       "bakery            897\n",
       "deli              566\n",
       "canned goods      317\n",
       "frozen            185\n",
       "babies            161\n",
       "pantry            159\n",
       "Name: department, dtype: int64"
      ]
     },
     "execution_count": 8,
     "metadata": {},
     "output_type": "execute_result"
    }
   ],
   "source": [
    "df_limited4 = df_limited3[df_limited3.groupby(\"department\")['department'].transform('size') > 100]\n",
    "df_limited4[\"department\"].value_counts()"
   ]
  },
  {
   "cell_type": "code",
   "execution_count": 9,
   "metadata": {},
   "outputs": [],
   "source": [
    "df_limited4.to_csv(\"LimitedData.csv\")"
   ]
  },
  {
   "cell_type": "code",
   "execution_count": 11,
   "metadata": {},
   "outputs": [
    {
     "data": {
      "text/plain": [
       "produce            10013\n",
       "dairy eggs          6226\n",
       "beverages           1775\n",
       "snacks              1495\n",
       "deli                 751\n",
       "bakery               414\n",
       "canned goods         397\n",
       "breakfast            384\n",
       "babies               378\n",
       "frozen               267\n",
       "meat seafood         133\n",
       "pantry               113\n",
       "household             85\n",
       "dry goods pasta       84\n",
       "Name: department, dtype: int64"
      ]
     },
     "execution_count": 11,
     "metadata": {},
     "output_type": "execute_result"
    }
   ],
   "source": [
    "df_limited3 = df_limited2[df_limited2.groupby(\"department\")['department'].transform('size') > 80]\n",
    "df_limited3[\"department\"].value_counts()"
   ]
  },
  {
   "cell_type": "code",
   "execution_count": 12,
   "metadata": {},
   "outputs": [],
   "source": [
    "df_limited3.to_csv(\"LimitedData.csv\")"
   ]
  },
  {
   "cell_type": "code",
   "execution_count": null,
   "metadata": {},
   "outputs": [],
   "source": []
  }
 ],
 "metadata": {
  "kernelspec": {
   "display_name": "Python 3",
   "language": "python",
   "name": "python3"
  },
  "language_info": {
   "codemirror_mode": {
    "name": "ipython",
    "version": 3
   },
   "file_extension": ".py",
   "mimetype": "text/x-python",
   "name": "python",
   "nbconvert_exporter": "python",
   "pygments_lexer": "ipython3",
   "version": "3.8.3"
  }
 },
 "nbformat": 4,
 "nbformat_minor": 4
}
