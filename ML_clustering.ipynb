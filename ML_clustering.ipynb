{
 "cells": [
  {
   "cell_type": "code",
   "execution_count": 10,
   "metadata": {},
   "outputs": [
    {
     "name": "stdout",
     "output_type": "stream",
     "text": [
      "Collecting kmodes\n",
      "  Downloading kmodes-0.10.2-py2.py3-none-any.whl (18 kB)\n",
      "Requirement already satisfied: numpy>=1.10.4 in c:\\users\\jakan\\anaconda3\\lib\\site-packages (from kmodes) (1.18.5)\n",
      "Requirement already satisfied: scikit-learn>=0.19.0 in c:\\users\\jakan\\anaconda3\\lib\\site-packages (from kmodes) (0.23.1)\n",
      "Requirement already satisfied: joblib>=0.11 in c:\\users\\jakan\\anaconda3\\lib\\site-packages (from kmodes) (0.16.0)\n",
      "Requirement already satisfied: scipy>=0.13.3 in c:\\users\\jakan\\anaconda3\\lib\\site-packages (from kmodes) (1.5.0)\n",
      "Requirement already satisfied: threadpoolctl>=2.0.0 in c:\\users\\jakan\\anaconda3\\lib\\site-packages (from scikit-learn>=0.19.0->kmodes) (2.1.0)\n",
      "Installing collected packages: kmodes\n",
      "Successfully installed kmodes-0.10.2\n",
      "Note: you may need to restart the kernel to use updated packages.\n"
     ]
    }
   ],
   "source": [
    "#pip install kmodes"
   ]
  },
  {
   "cell_type": "code",
   "execution_count": 9,
   "metadata": {},
   "outputs": [],
   "source": [
    "# Dependencies\n",
    "import matplotlib.pyplot as plt\n",
    "import numpy as np\n",
    "import pandas as pd\n",
    "from kmodes.kmodes import KModes"
   ]
  },
  {
   "cell_type": "code",
   "execution_count": 38,
   "metadata": {
    "scrolled": true
   },
   "outputs": [
    {
     "data": {
      "text/html": [
       "<div>\n",
       "<style scoped>\n",
       "    .dataframe tbody tr th:only-of-type {\n",
       "        vertical-align: middle;\n",
       "    }\n",
       "\n",
       "    .dataframe tbody tr th {\n",
       "        vertical-align: top;\n",
       "    }\n",
       "\n",
       "    .dataframe thead th {\n",
       "        text-align: right;\n",
       "    }\n",
       "</style>\n",
       "<table border=\"1\" class=\"dataframe\">\n",
       "  <thead>\n",
       "    <tr style=\"text-align: right;\">\n",
       "      <th></th>\n",
       "      <th>user_id</th>\n",
       "      <th>order_id</th>\n",
       "      <th>product_id</th>\n",
       "      <th>product_name</th>\n",
       "      <th>department_id</th>\n",
       "      <th>department</th>\n",
       "      <th>aisle_id</th>\n",
       "      <th>aisle</th>\n",
       "    </tr>\n",
       "  </thead>\n",
       "  <tbody>\n",
       "    <tr>\n",
       "      <th>0</th>\n",
       "      <td>1424</td>\n",
       "      <td>1249751</td>\n",
       "      <td>48679</td>\n",
       "      <td>Organic Garnet Sweet Potato (Yam)</td>\n",
       "      <td>4</td>\n",
       "      <td>produce</td>\n",
       "      <td>83</td>\n",
       "      <td>fresh vegetables</td>\n",
       "    </tr>\n",
       "    <tr>\n",
       "      <th>1</th>\n",
       "      <td>1424</td>\n",
       "      <td>1249751</td>\n",
       "      <td>26209</td>\n",
       "      <td>Limes</td>\n",
       "      <td>4</td>\n",
       "      <td>produce</td>\n",
       "      <td>24</td>\n",
       "      <td>fresh fruits</td>\n",
       "    </tr>\n",
       "    <tr>\n",
       "      <th>2</th>\n",
       "      <td>1424</td>\n",
       "      <td>1249751</td>\n",
       "      <td>47209</td>\n",
       "      <td>Organic Hass Avocado</td>\n",
       "      <td>4</td>\n",
       "      <td>produce</td>\n",
       "      <td>24</td>\n",
       "      <td>fresh fruits</td>\n",
       "    </tr>\n",
       "    <tr>\n",
       "      <th>3</th>\n",
       "      <td>1424</td>\n",
       "      <td>1249751</td>\n",
       "      <td>5876</td>\n",
       "      <td>Organic Lemon</td>\n",
       "      <td>4</td>\n",
       "      <td>produce</td>\n",
       "      <td>24</td>\n",
       "      <td>fresh fruits</td>\n",
       "    </tr>\n",
       "    <tr>\n",
       "      <th>4</th>\n",
       "      <td>1424</td>\n",
       "      <td>1249751</td>\n",
       "      <td>37646</td>\n",
       "      <td>Organic Gala Apples</td>\n",
       "      <td>4</td>\n",
       "      <td>produce</td>\n",
       "      <td>24</td>\n",
       "      <td>fresh fruits</td>\n",
       "    </tr>\n",
       "    <tr>\n",
       "      <th>...</th>\n",
       "      <td>...</td>\n",
       "      <td>...</td>\n",
       "      <td>...</td>\n",
       "      <td>...</td>\n",
       "      <td>...</td>\n",
       "      <td>...</td>\n",
       "      <td>...</td>\n",
       "      <td>...</td>\n",
       "    </tr>\n",
       "    <tr>\n",
       "      <th>95</th>\n",
       "      <td>1424</td>\n",
       "      <td>2287052</td>\n",
       "      <td>37646</td>\n",
       "      <td>Organic Gala Apples</td>\n",
       "      <td>4</td>\n",
       "      <td>produce</td>\n",
       "      <td>24</td>\n",
       "      <td>fresh fruits</td>\n",
       "    </tr>\n",
       "    <tr>\n",
       "      <th>96</th>\n",
       "      <td>1424</td>\n",
       "      <td>2287052</td>\n",
       "      <td>21137</td>\n",
       "      <td>Organic Strawberries</td>\n",
       "      <td>4</td>\n",
       "      <td>produce</td>\n",
       "      <td>24</td>\n",
       "      <td>fresh fruits</td>\n",
       "    </tr>\n",
       "    <tr>\n",
       "      <th>97</th>\n",
       "      <td>1424</td>\n",
       "      <td>2287052</td>\n",
       "      <td>22935</td>\n",
       "      <td>Organic Yellow Onion</td>\n",
       "      <td>4</td>\n",
       "      <td>produce</td>\n",
       "      <td>83</td>\n",
       "      <td>fresh vegetables</td>\n",
       "    </tr>\n",
       "    <tr>\n",
       "      <th>98</th>\n",
       "      <td>1424</td>\n",
       "      <td>2287052</td>\n",
       "      <td>47209</td>\n",
       "      <td>Organic Hass Avocado</td>\n",
       "      <td>4</td>\n",
       "      <td>produce</td>\n",
       "      <td>24</td>\n",
       "      <td>fresh fruits</td>\n",
       "    </tr>\n",
       "    <tr>\n",
       "      <th>99</th>\n",
       "      <td>1424</td>\n",
       "      <td>2287052</td>\n",
       "      <td>5876</td>\n",
       "      <td>Organic Lemon</td>\n",
       "      <td>4</td>\n",
       "      <td>produce</td>\n",
       "      <td>24</td>\n",
       "      <td>fresh fruits</td>\n",
       "    </tr>\n",
       "  </tbody>\n",
       "</table>\n",
       "<p>100 rows × 8 columns</p>\n",
       "</div>"
      ],
      "text/plain": [
       "    user_id  order_id  product_id                       product_name  \\\n",
       "0      1424   1249751       48679  Organic Garnet Sweet Potato (Yam)   \n",
       "1      1424   1249751       26209                              Limes   \n",
       "2      1424   1249751       47209               Organic Hass Avocado   \n",
       "3      1424   1249751        5876                      Organic Lemon   \n",
       "4      1424   1249751       37646                Organic Gala Apples   \n",
       "..      ...       ...         ...                                ...   \n",
       "95     1424   2287052       37646                Organic Gala Apples   \n",
       "96     1424   2287052       21137               Organic Strawberries   \n",
       "97     1424   2287052       22935               Organic Yellow Onion   \n",
       "98     1424   2287052       47209               Organic Hass Avocado   \n",
       "99     1424   2287052        5876                      Organic Lemon   \n",
       "\n",
       "    department_id department  aisle_id             aisle  \n",
       "0               4    produce        83  fresh vegetables  \n",
       "1               4    produce        24      fresh fruits  \n",
       "2               4    produce        24      fresh fruits  \n",
       "3               4    produce        24      fresh fruits  \n",
       "4               4    produce        24      fresh fruits  \n",
       "..            ...        ...       ...               ...  \n",
       "95              4    produce        24      fresh fruits  \n",
       "96              4    produce        24      fresh fruits  \n",
       "97              4    produce        83  fresh vegetables  \n",
       "98              4    produce        24      fresh fruits  \n",
       "99              4    produce        24      fresh fruits  \n",
       "\n",
       "[100 rows x 8 columns]"
      ]
     },
     "execution_count": 38,
     "metadata": {},
     "output_type": "execute_result"
    }
   ],
   "source": [
    "# Read in data\n",
    "data = pd.read_csv('./LimitedData.csv')\n",
    "data.head(100)"
   ]
  },
  {
   "cell_type": "code",
   "execution_count": 16,
   "metadata": {},
   "outputs": [
    {
     "data": {
      "text/plain": [
       "5588     891\n",
       "6710     575\n",
       "3830     485\n",
       "33731    469\n",
       "23832    467\n",
       "13701    432\n",
       "60694    431\n",
       "23371    431\n",
       "43758    370\n",
       "4694     344\n",
       "17738    328\n",
       "52008    318\n",
       "16274    314\n",
       "5360     301\n",
       "4625     301\n",
       "37592    295\n",
       "30910    280\n",
       "9036     277\n",
       "57546    262\n",
       "2335     144\n",
       "Name: user_id, dtype: int64"
      ]
     },
     "execution_count": 16,
     "metadata": {},
     "output_type": "execute_result"
    }
   ],
   "source": [
    "filtered_data = data[['user_id','product_id']]\n",
    "data['user_id'].value_counts()"
   ]
  },
  {
   "cell_type": "code",
   "execution_count": 39,
   "metadata": {},
   "outputs": [],
   "source": [
    "# Keep a copy of data\n",
    "data_copy = data.copy()"
   ]
  },
  {
   "cell_type": "code",
   "execution_count": 41,
   "metadata": {},
   "outputs": [
    {
     "data": {
      "text/html": [
       "<div>\n",
       "<style scoped>\n",
       "    .dataframe tbody tr th:only-of-type {\n",
       "        vertical-align: middle;\n",
       "    }\n",
       "\n",
       "    .dataframe tbody tr th {\n",
       "        vertical-align: top;\n",
       "    }\n",
       "\n",
       "    .dataframe thead th {\n",
       "        text-align: right;\n",
       "    }\n",
       "</style>\n",
       "<table border=\"1\" class=\"dataframe\">\n",
       "  <thead>\n",
       "    <tr style=\"text-align: right;\">\n",
       "      <th></th>\n",
       "      <th>user_id</th>\n",
       "      <th>order_id</th>\n",
       "      <th>product_id</th>\n",
       "      <th>product_name</th>\n",
       "      <th>department_id</th>\n",
       "      <th>department</th>\n",
       "      <th>aisle_id</th>\n",
       "      <th>aisle</th>\n",
       "    </tr>\n",
       "  </thead>\n",
       "  <tbody>\n",
       "    <tr>\n",
       "      <th>0</th>\n",
       "      <td>0</td>\n",
       "      <td>1364</td>\n",
       "      <td>88</td>\n",
       "      <td>41</td>\n",
       "      <td>2</td>\n",
       "      <td>8</td>\n",
       "      <td>9</td>\n",
       "      <td>10</td>\n",
       "    </tr>\n",
       "    <tr>\n",
       "      <th>1</th>\n",
       "      <td>0</td>\n",
       "      <td>1364</td>\n",
       "      <td>37</td>\n",
       "      <td>20</td>\n",
       "      <td>2</td>\n",
       "      <td>8</td>\n",
       "      <td>4</td>\n",
       "      <td>8</td>\n",
       "    </tr>\n",
       "    <tr>\n",
       "      <th>2</th>\n",
       "      <td>0</td>\n",
       "      <td>1364</td>\n",
       "      <td>85</td>\n",
       "      <td>45</td>\n",
       "      <td>2</td>\n",
       "      <td>8</td>\n",
       "      <td>4</td>\n",
       "      <td>8</td>\n",
       "    </tr>\n",
       "    <tr>\n",
       "      <th>3</th>\n",
       "      <td>0</td>\n",
       "      <td>1364</td>\n",
       "      <td>7</td>\n",
       "      <td>50</td>\n",
       "      <td>2</td>\n",
       "      <td>8</td>\n",
       "      <td>4</td>\n",
       "      <td>8</td>\n",
       "    </tr>\n",
       "    <tr>\n",
       "      <th>4</th>\n",
       "      <td>0</td>\n",
       "      <td>1364</td>\n",
       "      <td>64</td>\n",
       "      <td>39</td>\n",
       "      <td>2</td>\n",
       "      <td>8</td>\n",
       "      <td>4</td>\n",
       "      <td>8</td>\n",
       "    </tr>\n",
       "    <tr>\n",
       "      <th>5</th>\n",
       "      <td>0</td>\n",
       "      <td>1364</td>\n",
       "      <td>36</td>\n",
       "      <td>40</td>\n",
       "      <td>2</td>\n",
       "      <td>8</td>\n",
       "      <td>9</td>\n",
       "      <td>10</td>\n",
       "    </tr>\n",
       "    <tr>\n",
       "      <th>6</th>\n",
       "      <td>0</td>\n",
       "      <td>3324</td>\n",
       "      <td>20</td>\n",
       "      <td>3</td>\n",
       "      <td>2</td>\n",
       "      <td>8</td>\n",
       "      <td>4</td>\n",
       "      <td>8</td>\n",
       "    </tr>\n",
       "    <tr>\n",
       "      <th>7</th>\n",
       "      <td>0</td>\n",
       "      <td>3324</td>\n",
       "      <td>55</td>\n",
       "      <td>32</td>\n",
       "      <td>2</td>\n",
       "      <td>8</td>\n",
       "      <td>1</td>\n",
       "      <td>9</td>\n",
       "    </tr>\n",
       "    <tr>\n",
       "      <th>8</th>\n",
       "      <td>0</td>\n",
       "      <td>3324</td>\n",
       "      <td>40</td>\n",
       "      <td>49</td>\n",
       "      <td>2</td>\n",
       "      <td>8</td>\n",
       "      <td>9</td>\n",
       "      <td>10</td>\n",
       "    </tr>\n",
       "    <tr>\n",
       "      <th>9</th>\n",
       "      <td>0</td>\n",
       "      <td>3324</td>\n",
       "      <td>28</td>\n",
       "      <td>64</td>\n",
       "      <td>2</td>\n",
       "      <td>8</td>\n",
       "      <td>4</td>\n",
       "      <td>8</td>\n",
       "    </tr>\n",
       "  </tbody>\n",
       "</table>\n",
       "</div>"
      ],
      "text/plain": [
       "   user_id  order_id  product_id  product_name  department_id  department  \\\n",
       "0        0      1364          88            41              2           8   \n",
       "1        0      1364          37            20              2           8   \n",
       "2        0      1364          85            45              2           8   \n",
       "3        0      1364           7            50              2           8   \n",
       "4        0      1364          64            39              2           8   \n",
       "5        0      1364          36            40              2           8   \n",
       "6        0      3324          20             3              2           8   \n",
       "7        0      3324          55            32              2           8   \n",
       "8        0      3324          40            49              2           8   \n",
       "9        0      3324          28            64              2           8   \n",
       "\n",
       "   aisle_id  aisle  \n",
       "0         9     10  \n",
       "1         4      8  \n",
       "2         4      8  \n",
       "3         4      8  \n",
       "4         4      8  \n",
       "5         9     10  \n",
       "6         4      8  \n",
       "7         1      9  \n",
       "8         9     10  \n",
       "9         4      8  "
      ]
     },
     "execution_count": 41,
     "metadata": {},
     "output_type": "execute_result"
    }
   ],
   "source": [
    "# Data processing\n",
    "#from sklearn import preprocessing\n",
    "\n",
    "le = preprocessing.LabelEncoder()\n",
    "data = data.apply(le.fit_transform)\n",
    "data.head(10)"
   ]
  },
  {
   "cell_type": "code",
   "execution_count": 42,
   "metadata": {},
   "outputs": [
    {
     "name": "stdout",
     "output_type": "stream",
     "text": [
      "Init: initializing centroids\n",
      "Init: initializing clusters\n",
      "Starting iterations...\n",
      "Run 1, iteration: 1/100, moves: 2, cost: 123012.0\n"
     ]
    }
   ],
   "source": [
    "# Using K-Mode with \"Cao\" initialization\n",
    "km_cao = KModes(n_clusters=2, init = \"Cao\", n_init = 1, verbose=1)\n",
    "fitClusters_cao = km_cao.fit_predict(data)"
   ]
  },
  {
   "cell_type": "code",
   "execution_count": 43,
   "metadata": {},
   "outputs": [
    {
     "data": {
      "text/plain": [
       "array([1, 0, 0, ..., 0, 0, 0], dtype=uint16)"
      ]
     },
     "execution_count": 43,
     "metadata": {},
     "output_type": "execute_result"
    }
   ],
   "source": [
    "# Predicted Clusters\n",
    "fitClusters_cao"
   ]
  },
  {
   "cell_type": "code",
   "execution_count": 44,
   "metadata": {},
   "outputs": [
    {
     "data": {
      "text/html": [
       "<div>\n",
       "<style scoped>\n",
       "    .dataframe tbody tr th:only-of-type {\n",
       "        vertical-align: middle;\n",
       "    }\n",
       "\n",
       "    .dataframe tbody tr th {\n",
       "        vertical-align: top;\n",
       "    }\n",
       "\n",
       "    .dataframe thead th {\n",
       "        text-align: right;\n",
       "    }\n",
       "</style>\n",
       "<table border=\"1\" class=\"dataframe\">\n",
       "  <thead>\n",
       "    <tr style=\"text-align: right;\">\n",
       "      <th></th>\n",
       "      <th>user_id</th>\n",
       "      <th>order_id</th>\n",
       "      <th>product_id</th>\n",
       "      <th>product_name</th>\n",
       "      <th>department_id</th>\n",
       "      <th>department</th>\n",
       "      <th>aisle_id</th>\n",
       "      <th>aisle</th>\n",
       "    </tr>\n",
       "  </thead>\n",
       "  <tbody>\n",
       "    <tr>\n",
       "      <th>0</th>\n",
       "      <td>37</td>\n",
       "      <td>582</td>\n",
       "      <td>35</td>\n",
       "      <td>4</td>\n",
       "      <td>2</td>\n",
       "      <td>8</td>\n",
       "      <td>4</td>\n",
       "      <td>8</td>\n",
       "    </tr>\n",
       "    <tr>\n",
       "      <th>1</th>\n",
       "      <td>45</td>\n",
       "      <td>294</td>\n",
       "      <td>50</td>\n",
       "      <td>33</td>\n",
       "      <td>2</td>\n",
       "      <td>8</td>\n",
       "      <td>9</td>\n",
       "      <td>10</td>\n",
       "    </tr>\n",
       "  </tbody>\n",
       "</table>\n",
       "</div>"
      ],
      "text/plain": [
       "   user_id  order_id  product_id  product_name  department_id  department  \\\n",
       "0       37       582          35             4              2           8   \n",
       "1       45       294          50            33              2           8   \n",
       "\n",
       "   aisle_id  aisle  \n",
       "0         4      8  \n",
       "1         9     10  "
      ]
     },
     "execution_count": 44,
     "metadata": {},
     "output_type": "execute_result"
    }
   ],
   "source": [
    "clusterCentroidsDf = pd.DataFrame(km_cao.cluster_centroids_)\n",
    "clusterCentroidsDf.columns = data.columns\n",
    "\n",
    "# Mode of the clusters\n",
    "clusterCentroidsDf"
   ]
  },
  {
   "cell_type": "code",
   "execution_count": 45,
   "metadata": {},
   "outputs": [
    {
     "name": "stdout",
     "output_type": "stream",
     "text": [
      "Init: initializing centroids\n",
      "Init: initializing clusters\n",
      "Starting iterations...\n",
      "Run 1, iteration: 1/100, moves: 423, cost: 122942.0\n",
      "Run 1, iteration: 2/100, moves: 31, cost: 122942.0\n"
     ]
    }
   ],
   "source": [
    "# Using K-Mode with \"Huang\" initialization\n",
    "km_huang = KModes(n_clusters=2, init = \"Huang\", n_init = 1, verbose=1)\n",
    "fitClusters_huang = km_huang.fit_predict(data)"
   ]
  },
  {
   "cell_type": "code",
   "execution_count": 46,
   "metadata": {},
   "outputs": [
    {
     "data": {
      "text/plain": [
       "array([1, 0, 0, ..., 0, 0, 0], dtype=uint16)"
      ]
     },
     "execution_count": 46,
     "metadata": {},
     "output_type": "execute_result"
    }
   ],
   "source": [
    "# Predicted clusters\n",
    "fitClusters_huang"
   ]
  },
  {
   "cell_type": "code",
   "execution_count": 47,
   "metadata": {},
   "outputs": [
    {
     "name": "stdout",
     "output_type": "stream",
     "text": [
      "Init: initializing centroids\n",
      "Init: initializing clusters\n",
      "Starting iterations...\n",
      "Run 1, iteration: 1/100, moves: 0, cost: 129477.0\n",
      "Init: initializing centroids\n",
      "Init: initializing clusters\n",
      "Starting iterations...\n",
      "Run 1, iteration: 1/100, moves: 2, cost: 123012.0\n",
      "Init: initializing centroids\n",
      "Init: initializing clusters\n",
      "Starting iterations...\n",
      "Run 1, iteration: 1/100, moves: 7, cost: 116630.0\n",
      "Run 1, iteration: 2/100, moves: 0, cost: 116630.0\n",
      "Init: initializing centroids\n",
      "Init: initializing clusters\n",
      "Starting iterations...\n",
      "Run 1, iteration: 1/100, moves: 10, cost: 114578.0\n"
     ]
    }
   ],
   "source": [
    "# Choosing K by comparing Cost against each K\n",
    "cost = []\n",
    "for num_clusters in list(range(1,5)):\n",
    "    kmode = KModes(n_clusters=num_clusters, init = \"Cao\", n_init = 1, verbose=1)\n",
    "    kmode.fit_predict(data)\n",
    "    cost.append(kmode.cost_)"
   ]
  },
  {
   "cell_type": "code",
   "execution_count": 48,
   "metadata": {},
   "outputs": [
    {
     "data": {
      "text/plain": [
       "[<matplotlib.lines.Line2D at 0x1a732ffa7f0>]"
      ]
     },
     "execution_count": 48,
     "metadata": {},
     "output_type": "execute_result"
    },
    {
     "data": {
      "image/png": "[encoded data removed]",
      "text/plain": [
       "<Figure size 432x288 with 1 Axes>"
      ]
     },
     "metadata": {
      "needs_background": "light"
     },
     "output_type": "display_data"
    }
   ],
   "source": [
    "y = np.array([i for i in range(1,5,1)])\n",
    "plt.plot(y,cost)"
   ]
  },
  {
   "cell_type": "code",
   "execution_count": 50,
   "metadata": {},
   "outputs": [
    {
     "name": "stdout",
     "output_type": "stream",
     "text": [
      "Init: initializing centroids\n",
      "Init: initializing clusters\n",
      "Starting iterations...\n",
      "Run 1, iteration: 1/100, moves: 7, cost: 116630.0\n",
      "Run 1, iteration: 2/100, moves: 0, cost: 116630.0\n"
     ]
    }
   ],
   "source": [
    "# Choosing K=2\n",
    "km_cao = KModes(n_clusters=3, init = \"Cao\", n_init = 1, verbose=1)\n",
    "fitClusters_cao = km_cao.fit_predict(data)"
   ]
  },
  {
   "cell_type": "code",
   "execution_count": 51,
   "metadata": {},
   "outputs": [],
   "source": [
    "# Combining the predicted clusters with the original DF.\n",
    "data = data_copy.reset_index()"
   ]
  },
  {
   "cell_type": "code",
   "execution_count": 52,
   "metadata": {},
   "outputs": [
    {
     "data": {
      "text/html": [
       "<div>\n",
       "<style scoped>\n",
       "    .dataframe tbody tr th:only-of-type {\n",
       "        vertical-align: middle;\n",
       "    }\n",
       "\n",
       "    .dataframe tbody tr th {\n",
       "        vertical-align: top;\n",
       "    }\n",
       "\n",
       "    .dataframe thead th {\n",
       "        text-align: right;\n",
       "    }\n",
       "</style>\n",
       "<table border=\"1\" class=\"dataframe\">\n",
       "  <thead>\n",
       "    <tr style=\"text-align: right;\">\n",
       "      <th></th>\n",
       "      <th>user_id</th>\n",
       "      <th>order_id</th>\n",
       "      <th>product_id</th>\n",
       "      <th>product_name</th>\n",
       "      <th>department_id</th>\n",
       "      <th>department</th>\n",
       "      <th>aisle_id</th>\n",
       "      <th>aisle</th>\n",
       "      <th>cluster_predicted</th>\n",
       "    </tr>\n",
       "  </thead>\n",
       "  <tbody>\n",
       "    <tr>\n",
       "      <th>0</th>\n",
       "      <td>1424</td>\n",
       "      <td>1249751</td>\n",
       "      <td>48679</td>\n",
       "      <td>Organic Garnet Sweet Potato (Yam)</td>\n",
       "      <td>4</td>\n",
       "      <td>produce</td>\n",
       "      <td>83</td>\n",
       "      <td>fresh vegetables</td>\n",
       "      <td>1</td>\n",
       "    </tr>\n",
       "    <tr>\n",
       "      <th>1</th>\n",
       "      <td>1424</td>\n",
       "      <td>1249751</td>\n",
       "      <td>26209</td>\n",
       "      <td>Limes</td>\n",
       "      <td>4</td>\n",
       "      <td>produce</td>\n",
       "      <td>24</td>\n",
       "      <td>fresh fruits</td>\n",
       "      <td>0</td>\n",
       "    </tr>\n",
       "    <tr>\n",
       "      <th>2</th>\n",
       "      <td>1424</td>\n",
       "      <td>1249751</td>\n",
       "      <td>47209</td>\n",
       "      <td>Organic Hass Avocado</td>\n",
       "      <td>4</td>\n",
       "      <td>produce</td>\n",
       "      <td>24</td>\n",
       "      <td>fresh fruits</td>\n",
       "      <td>0</td>\n",
       "    </tr>\n",
       "    <tr>\n",
       "      <th>3</th>\n",
       "      <td>1424</td>\n",
       "      <td>1249751</td>\n",
       "      <td>5876</td>\n",
       "      <td>Organic Lemon</td>\n",
       "      <td>4</td>\n",
       "      <td>produce</td>\n",
       "      <td>24</td>\n",
       "      <td>fresh fruits</td>\n",
       "      <td>0</td>\n",
       "    </tr>\n",
       "    <tr>\n",
       "      <th>4</th>\n",
       "      <td>1424</td>\n",
       "      <td>1249751</td>\n",
       "      <td>37646</td>\n",
       "      <td>Organic Gala Apples</td>\n",
       "      <td>4</td>\n",
       "      <td>produce</td>\n",
       "      <td>24</td>\n",
       "      <td>fresh fruits</td>\n",
       "      <td>0</td>\n",
       "    </tr>\n",
       "  </tbody>\n",
       "</table>\n",
       "</div>"
      ],
      "text/plain": [
       "   user_id  order_id  product_id                       product_name  \\\n",
       "0     1424   1249751       48679  Organic Garnet Sweet Potato (Yam)   \n",
       "1     1424   1249751       26209                              Limes   \n",
       "2     1424   1249751       47209               Organic Hass Avocado   \n",
       "3     1424   1249751        5876                      Organic Lemon   \n",
       "4     1424   1249751       37646                Organic Gala Apples   \n",
       "\n",
       "   department_id department  aisle_id             aisle  cluster_predicted  \n",
       "0              4    produce        83  fresh vegetables                  1  \n",
       "1              4    produce        24      fresh fruits                  0  \n",
       "2              4    produce        24      fresh fruits                  0  \n",
       "3              4    produce        24      fresh fruits                  0  \n",
       "4              4    produce        24      fresh fruits                  0  "
      ]
     },
     "execution_count": 52,
     "metadata": {},
     "output_type": "execute_result"
    }
   ],
   "source": [
    "clustersDf = pd.DataFrame(fitClusters_cao)\n",
    "clustersDf.columns = ['cluster_predicted']\n",
    "combinedDf = pd.concat([data, clustersDf], axis = 1).reset_index()\n",
    "combinedDf = combinedDf.drop(['index', 'level_0'], axis = 1)\n",
    "combinedDf.head()"
   ]
  },
  {
   "cell_type": "code",
   "execution_count": 53,
   "metadata": {},
   "outputs": [
    {
     "name": "stdout",
     "output_type": "stream",
     "text": [
      "<class 'pandas.core.frame.DataFrame'>\n",
      "Int64Index: 16248 entries, 1 to 22016\n",
      "Data columns (total 9 columns):\n",
      " #   Column             Non-Null Count  Dtype \n",
      "---  ------             --------------  ----- \n",
      " 0   user_id            16248 non-null  int64 \n",
      " 1   order_id           16248 non-null  int64 \n",
      " 2   product_id         16248 non-null  int64 \n",
      " 3   product_name       16248 non-null  object\n",
      " 4   department_id      16248 non-null  int64 \n",
      " 5   department         16248 non-null  object\n",
      " 6   aisle_id           16248 non-null  int64 \n",
      " 7   aisle              16248 non-null  object\n",
      " 8   cluster_predicted  16248 non-null  uint16\n",
      "dtypes: int64(5), object(3), uint16(1)\n",
      "memory usage: 1.1+ MB\n"
     ]
    }
   ],
   "source": [
    "# Cluster Identification\n",
    "cluster_0 = combinedDf[combinedDf['cluster_predicted'] == 0]\n",
    "cluster_1 = combinedDf[combinedDf['cluster_predicted'] == 1]\n",
    "cluster_2 = combinedDf[combinedDf['cluster_predicted'] == 2]\n",
    "cluster_0.info()"
   ]
  },
  {
   "cell_type": "code",
   "execution_count": 55,
   "metadata": {},
   "outputs": [
    {
     "data": {
      "image/png": "[encoded data removed]",
      "text/plain": [
       "<Figure size 1080x360 with 1 Axes>"
      ]
     },
     "metadata": {
      "needs_background": "light"
     },
     "output_type": "display_data"
    }
   ],
   "source": [
    "import seaborn as sns\n",
    "\n",
    "plt.subplots(figsize = (15,5))\n",
    "sns.countplot(x=combinedDf['user_id'],order=combinedDf['user_id'].value_counts().index,hue=combinedDf['cluster_predicted'])\n",
    "plt.xticks(rotation = 45)\n",
    "plt.show()"
   ]
  },
  {
   "cell_type": "code",
   "execution_count": 56,
   "metadata": {},
   "outputs": [
    {
     "data": {
      "image/png": "[encoded data removed]",
      "text/plain": [
       "<Figure size 1080x360 with 1 Axes>"
      ]
     },
     "metadata": {
      "needs_background": "light"
     },
     "output_type": "display_data"
    }
   ],
   "source": [
    "plt.subplots(figsize = (15,5))\n",
    "sns.countplot(x=combinedDf['product_id'],order=combinedDf['product_id'].value_counts().index,hue=combinedDf['cluster_predicted'])\n",
    "plt.xticks(rotation = 45)\n",
    "plt.show()"
   ]
  }
 ],
 "metadata": {
  "kernelspec": {
   "display_name": "Python 3",
   "language": "python",
   "name": "python3"
  },
  "language_info": {
   "codemirror_mode": {
    "name": "ipython",
    "version": 3
   },
   "file_extension": ".py",
   "mimetype": "text/x-python",
   "name": "python",
   "nbconvert_exporter": "python",
   "pygments_lexer": "ipython3",
   "version": "3.8.3"
  }
 },
 "nbformat": 4,
 "nbformat_minor": 4
}
