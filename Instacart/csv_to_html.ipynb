{
 "cells": [
  {
   "cell_type": "code",
   "execution_count": 1,
   "metadata": {},
   "outputs": [],
   "source": [
    "# import dependencies \n",
    "import os\n",
    "import pandas as pd\n",
    "import numpy as np"
   ]
  },
  {
   "cell_type": "code",
   "execution_count": 2,
   "metadata": {},
   "outputs": [],
   "source": [
    "# generate path to csv\n",
    "csv_path = os.path.join('Resources', 'LimitedData.csv')\n",
    "instacart_csv = pd.read_csv(csv_path)"
   ]
  },
  {
   "cell_type": "code",
   "execution_count": 3,
   "metadata": {},
   "outputs": [],
   "source": [
    "produce_csv = instacart_csv.loc[instacart_csv[\"department\"] == \"produce\", :]\n",
    "produce_csv = produce_csv[[\"product_id\", \"product_name\", \"aisle\", \"Organic vs Non Organic\", \"Food Group\", \"Vegan Friendly\"]]\n",
    "unique_arr = produce_csv[\"product_name\"].unique()\n",
    "my_array = np.array(unique_arr)\n",
    "produce_csv = pd.DataFrame(my_array, index=None, columns=[\"Produce Name\"])\n",
    "\n",
    "deli_csv = instacart_csv.loc[instacart_csv[\"department\"] == \"deli\", :]\n",
    "deli_csv = deli_csv[[\"product_id\", \"product_name\", \"aisle\", \"Organic vs Non Organic\", \"Food Group\", \"Vegan Friendly\"]]\n",
    "unique_arr = deli_csv[\"product_name\"].unique()\n",
    "my_array = np.array(unique_arr)\n",
    "deli_csv = pd.DataFrame(my_array, index=None, columns=[\"Produce Name\"])\n",
    "\n",
    "snacks_csv = instacart_csv.loc[instacart_csv[\"department\"] == \"snacks\", :]\n",
    "snacks_csv = snacks_csv[[\"product_id\", \"product_name\", \"aisle\", \"Organic vs Non Organic\", \"Food Group\", \"Vegan Friendly\"]]\n",
    "unique_arr = snacks_csv[\"product_name\"].unique()\n",
    "my_array = np.array(unique_arr)\n",
    "snacks_csv = pd.DataFrame(my_array, index=None, columns=[\"Produce Name\"])\n",
    "\n",
    "breakfast_csv = instacart_csv.loc[instacart_csv[\"department\"] == \"breakfast\", :]\n",
    "breakfast_csv = breakfast_csv[[\"product_id\", \"product_name\", \"aisle\", \"Organic vs Non Organic\", \"Food Group\", \"Vegan Friendly\"]]\n",
    "unique_arr = breakfast_csv[\"product_name\"].unique()\n",
    "my_array = np.array(unique_arr)\n",
    "breakfast_csv = pd.DataFrame(my_array, index=None, columns=[\"Produce Name\"])\n",
    "\n",
    "baby_csv = instacart_csv.loc[instacart_csv[\"department\"] == \"babies\", :]\n",
    "baby_csv = baby_csv[[\"product_id\", \"product_name\", \"aisle\", \"Organic vs Non Organic\", \"Food Group\", \"Vegan Friendly\"]]\n",
    "unique_arr = baby_csv[\"product_name\"].unique()\n",
    "my_array = np.array(unique_arr)\n",
    "baby_csv = pd.DataFrame(my_array, index=None, columns=[\"Produce Name\"])\n",
    "\n",
    "dairy_csv = instacart_csv.loc[instacart_csv[\"department\"] == \"dairy eggs\", :]\n",
    "dairy_csv = dairy_csv[[\"product_id\", \"product_name\", \"aisle\", \"Organic vs Non Organic\", \"Food Group\", \"Vegan Friendly\"]]\n",
    "unique_arr = dairy_csv[\"product_name\"].unique()\n",
    "my_array = np.array(unique_arr)\n",
    "dairy_csv = pd.DataFrame(my_array, index=None, columns=[\"Produce Name\"])\n",
    "\n",
    "beverages_csv = instacart_csv.loc[instacart_csv[\"department\"] == \"beverages\", :]\n",
    "beverages_csv = beverages_csv[[\"product_id\", \"product_name\", \"aisle\", \"Organic vs Non Organic\", \"Food Group\", \"Vegan Friendly\"]]\n",
    "unique_arr = beverages_csv[\"product_name\"].unique()\n",
    "my_array = np.array(unique_arr)\n",
    "beverages_csv = pd.DataFrame(my_array, index=None, columns=[\"Produce Name\"])\n",
    "\n",
    "bakery_csv = instacart_csv.loc[instacart_csv[\"department\"] == \"bakery\", :]\n",
    "bakery_csv = bakery_csv[[\"product_id\", \"product_name\", \"aisle\", \"Organic vs Non Organic\", \"Food Group\", \"Vegan Friendly\"]]\n",
    "unique_arr = bakery_csv[\"product_name\"].unique()\n",
    "my_array = np.array(unique_arr)\n",
    "bakery_csv = pd.DataFrame(my_array, index=None, columns=[\"Produce Name\"])\n",
    "\n",
    "frozen_csv = instacart_csv.loc[instacart_csv[\"department\"] == \"frozen\", :]\n",
    "frozen_csv = frozen_csv[[\"product_id\", \"product_name\", \"aisle\", \"Organic vs Non Organic\", \"Food Group\", \"Vegan Friendly\"]]\n",
    "unique_arr = frozen_csv[\"product_name\"].unique()\n",
    "my_array = np.array(unique_arr)\n",
    "frozen_csv = pd.DataFrame(my_array, index=None, columns=[\"Produce Name\"])"
   ]
  },
  {
   "cell_type": "code",
   "execution_count": null,
   "metadata": {},
   "outputs": [],
   "source": []
  },
  {
   "cell_type": "code",
   "execution_count": 4,
   "metadata": {},
   "outputs": [],
   "source": [
    "# create html table and save to file \n",
    "produce_csv.to_html('produce_table.html', index=False, classes=['table', 'table-striped', 'table-hover'])\n",
    "\n",
    "# create html table and save to file \n",
    "deli_csv.to_html('deli_table.html', index=False, classes=['table', 'table-striped', 'table-hover'])\n",
    "\n",
    "# create html table and save to file \n",
    "snacks_csv.to_html('snacks_table.html', index=False, classes=['table', 'table-striped', 'table-hover'])\n",
    "\n",
    "# create html table and save to file \n",
    "breakfast_csv.to_html('breakfast_table.html', index=False, classes=['table', 'table-striped', 'table-hover'])\n",
    "\n",
    "# create html table and save to file \n",
    "baby_csv.to_html('baby_table.html', index=False, classes=['table', 'table-striped', 'table-hover'])\n",
    "\n",
    "# create html table and save to file \n",
    "dairy_csv.to_html('dairy_table.html', index=False, classes=['table', 'table-striped', 'table-hover'])\n",
    "\n",
    "# create html table and save to file \n",
    "beverages_csv.to_html('beverages_table.html', index=False, classes=['table', 'table-striped', 'table-hover'])\n",
    "\n",
    "# create html table and save to file \n",
    "bakery_csv.to_html('bakery_table.html', index=False, classes=['table', 'table-striped', 'table-hover'])\n",
    "\n",
    "# create html table and save to file \n",
    "frozen_csv.to_html('frozen_table.html', index=False, classes=['table', 'table-striped', 'table-hover'])"
   ]
  },
  {
   "cell_type": "code",
   "execution_count": null,
   "metadata": {},
   "outputs": [],
   "source": []
  },
  {
   "cell_type": "code",
   "execution_count": null,
   "metadata": {},
   "outputs": [],
   "source": []
  }
 ],
 "metadata": {
  "kernelspec": {
   "display_name": "Python 3",
   "language": "python",
   "name": "python3"
  },
  "language_info": {
   "codemirror_mode": {
    "name": "ipython",
    "version": 3
   },
   "file_extension": ".py",
   "mimetype": "text/x-python",
   "name": "python",
   "nbconvert_exporter": "python",
   "pygments_lexer": "ipython3",
   "version": "3.8.3"
  }
 },
 "nbformat": 4,
 "nbformat_minor": 2
}
